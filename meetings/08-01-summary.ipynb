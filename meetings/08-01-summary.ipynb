{
 "cells": [
  {
   "cell_type": "code",
   "execution_count": null,
   "metadata": {},
   "outputs": [],
   "source": [
    "%load_ext autoreload\n",
    "%autoreload 2\n",
    "\n",
    "import numpy as np\n",
    "import matplotlib.pyplot as plt\n",
    "import seaborn as sns\n",
    "import pandas as pd\n",
    "\n",
    "from matplotlib.ticker import FormatStrFormatter\n",
    "\n",
    "from src.utils.visualization import (\n",
    "    plot_experiments, \n",
    "    plot_error_distributions, \n",
    "    plot_timewise_error_progression, \n",
    "    plot_one_model_predictions, \n",
    "    plot_one_model_error_distribution, \n",
    "    plot_one_model_timewise_error,\n",
    "    animate_results,\n",
    "    animate_predictions,\n",
    "    plot_real_data_results\n",
    ")"
   ]
  },
  {
   "cell_type": "code",
   "execution_count": null,
   "metadata": {},
   "outputs": [],
   "source": [
    "plot_real_data_results()"
   ]
  },
  {
   "cell_type": "code",
   "execution_count": null,
   "metadata": {},
   "outputs": [],
   "source": [
    "best_clstm = np.load('results/predictions/clstm/sparse_real_random_gaussian_full_predictions.npz')\n",
    "best_preds = best_clstm['predictions']\n",
    "best_gt = best_clstm['ground_truth']\n",
    "\n",
    "kriging = np.load('results/predictions/kriging/real_random_predictions.npz')\n",
    "\n",
    "print(best_clstm.files)"
   ]
  },
  {
   "cell_type": "code",
   "execution_count": null,
   "metadata": {},
   "outputs": [],
   "source": [
    "animate_predictions(\n",
    "    predictions=best_preds,\n",
    "    num_frames=200,\n",
    "    save_dir=\"./\",\n",
    ")"
   ]
  },
  {
   "cell_type": "code",
   "execution_count": null,
   "metadata": {},
   "outputs": [],
   "source": [
    "animate_results(\n",
    "    predictions=best_preds,\n",
    "    ground_truth=best_gt,\n",
    "    num_frames=100,\n",
    ")"
   ]
  },
  {
   "cell_type": "code",
   "execution_count": null,
   "metadata": {},
   "outputs": [],
   "source": [
    "fig, axs = plt.subplots(1, 4, figsize=(20, 5))\n",
    "\n",
    "pollutants = ['O3', 'PM10', 'PM2.5', 'NO2']\n",
    "\n",
    "for i, pollutant in enumerate(pollutants):\n",
    "    preds = best_preds[:, i].flatten()\n",
    "    preds = preds[preds != 0]\n",
    "\n",
    "    preds_min = np.min(preds)\n",
    "\n",
    "    gts = best_gt[:, i].flatten()\n",
    "    gts = gts[gts >= 1e-3]\n",
    "\n",
    "    kriging_preds = kriging['predictions'][:, i].flatten()\n",
    "    kriging_preds = kriging_preds[kriging_preds != 0]\n",
    "\n",
    "    bins = np.histogram_bin_edges(\n",
    "        np.concatenate([preds, gts, kriging_preds]),\n",
    "        bins=50\n",
    "    )\n",
    "\n",
    "    axs[i].hist(preds, bins=bins, alpha=0.5, label='CLSTM', color='blue', density=True)\n",
    "    axs[i].hist(gts, bins=bins, alpha=0.5, label='Ground Truth', color='orange', density=True)\n",
    "\n",
    "    axs[i].set_title(f\"{pollutant} Predictions vs Ground Truth\")\n",
    "    axs[i].set_xlabel('Values')\n",
    "    axs[i].set_ylabel('Density')\n",
    "    axs[i].legend()\n",
    "\n",
    "plt.tight_layout()\n",
    "plt.show()\n",
    "\n",
    "fig, axs = plt.subplots(1, 4, figsize=(20, 5))\n",
    "\n",
    "for i, pollutant in enumerate(pollutants):\n",
    "    preds = best_preds[:, i].flatten()\n",
    "    preds = preds[preds != 0]\n",
    "\n",
    "    gts = best_gt[:, i].flatten()\n",
    "    gts = gts[gts >= 1e-3]\n",
    "\n",
    "    kriging_preds = kriging['predictions'][:, i].flatten()\n",
    "    kriging_preds = kriging_preds[kriging_preds != 0]\n",
    "\n",
    "    bins = np.histogram_bin_edges(\n",
    "        np.concatenate([preds, gts, kriging_preds]),\n",
    "        bins=50\n",
    "    )\n",
    "\n",
    "    axs[i].hist(gts, bins=bins, alpha=0.5, label='Ground Truth', color='orange', density=True)\n",
    "    axs[i].hist(kriging_preds, bins=bins, alpha=0.5, label='Kriging', color='green', density=True)\n",
    "\n",
    "    axs[i].set_title(f\"{pollutant} Predictions vs Ground Truth\")\n",
    "    axs[i].set_xlabel('Values')\n",
    "    axs[i].set_ylabel('Density')\n",
    "    axs[i].legend()\n",
    "\n",
    "plt.tight_layout()\n",
    "plt.show()"
   ]
  },
  {
   "cell_type": "code",
   "execution_count": null,
   "metadata": {},
   "outputs": [],
   "source": []
  }
 ],
 "metadata": {
  "kernelspec": {
   "display_name": ".venv",
   "language": "python",
   "name": "python3"
  },
  "language_info": {
   "codemirror_mode": {
    "name": "ipython",
    "version": 3
   },
   "file_extension": ".py",
   "mimetype": "text/x-python",
   "name": "python",
   "nbconvert_exporter": "python",
   "pygments_lexer": "ipython3",
   "version": "3.12.3"
  }
 },
 "nbformat": 4,
 "nbformat_minor": 2
}
