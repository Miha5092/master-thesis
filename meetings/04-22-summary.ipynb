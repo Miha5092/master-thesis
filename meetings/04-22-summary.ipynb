{
 "cells": [
  {
   "cell_type": "markdown",
   "id": "7cd474b5",
   "metadata": {},
   "source": [
    "## Imports & Functions"
   ]
  },
  {
   "cell_type": "code",
   "execution_count": null,
   "id": "a29ba17f",
   "metadata": {},
   "outputs": [],
   "source": [
    "import numpy as np\n",
    "\n",
    "from src.utils.visualization import plot_experiments, plot_error_distributions"
   ]
  },
  {
   "cell_type": "code",
   "execution_count": null,
   "id": "5296773c",
   "metadata": {},
   "outputs": [],
   "source": [
    "experiment_names = [\n",
    "    \"VCNN classic 30\",\n",
    "    \"VCNN UNet 30\",\n",
    "    \"ViT UNet 30\",\n",
    "    \"ViT UNet real\"\n",
    "    \"VCNN classic real\",\n",
    "    \"VCNN UNet real\",\n",
    "]\n",
    "\n",
    "experiment_results = [\n",
    "    np.load('results/predictions/vcnn/model_classic_30_min-max_predictions.npz'),\n",
    "    np.load('results/predictions/vcnn/model_tiny_30_min-max_predictions.npz'),\n",
    "    np.load('results/predictions/vitae/model_unet_30_min-max_predictions.npz'),\n",
    "    np.load('results/predictions/vitae/model_unet_real_min-max_predictions.npz'),\n",
    "    np.load('results/predictions/vcnn/model_classic_real_min-max_predictions.npz'),\n",
    "    np.load('results/predictions/vcnn/model_tiny_real_min-max_predictions.npz'),\n",
    "]"
   ]
  },
  {
   "cell_type": "markdown",
   "id": "3d34beb0",
   "metadata": {},
   "source": [
    "# Changes since last meeting"
   ]
  },
  {
   "cell_type": "markdown",
   "id": "8d21a7ab",
   "metadata": {},
   "source": [
    "- Changed from Gaussian standardization to Min-Max scaling\n",
    "- Introduced the real positions of the sensor as a possible training setting\n",
    "- Introduced LR schedulers for both models (warmup + cosine)\n",
    "- During hyperparam search I am trying multiple kernel sizes (3, 5, 7)\n",
    "- Found that the best patch size for the ViT model is 15x10\n",
    "- ViT is still not better than VCNN if using UNet..."
   ]
  },
  {
   "cell_type": "markdown",
   "id": "cfc614de",
   "metadata": {},
   "source": [
    "# Current model performance"
   ]
  },
  {
   "cell_type": "code",
   "execution_count": null,
   "id": "a20d6861",
   "metadata": {},
   "outputs": [],
   "source": [
    "plot_experiments(experiment_names, experiment_results)"
   ]
  },
  {
   "cell_type": "code",
   "execution_count": null,
   "id": "2ca34d68",
   "metadata": {},
   "outputs": [],
   "source": [
    "plot_error_distributions(experiment_names, experiment_results)"
   ]
  },
  {
   "cell_type": "code",
   "execution_count": null,
   "id": "955c40da",
   "metadata": {},
   "outputs": [],
   "source": []
  }
 ],
 "metadata": {
  "kernelspec": {
   "display_name": ".venv",
   "language": "python",
   "name": "python3"
  },
  "language_info": {
   "codemirror_mode": {
    "name": "ipython",
    "version": 3
   },
   "file_extension": ".py",
   "mimetype": "text/x-python",
   "name": "python",
   "nbconvert_exporter": "python",
   "pygments_lexer": "ipython3",
   "version": "3.12.3"
  }
 },
 "nbformat": 4,
 "nbformat_minor": 5
}
