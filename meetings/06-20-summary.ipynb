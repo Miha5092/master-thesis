{
 "cells": [
  {
   "cell_type": "code",
   "execution_count": null,
   "metadata": {},
   "outputs": [],
   "source": [
    "%load_ext autoreload\n",
    "%autoreload 2"
   ]
  },
  {
   "cell_type": "code",
   "execution_count": null,
   "metadata": {},
   "outputs": [],
   "source": [
    "import numpy as np\n",
    "import matplotlib.pyplot as plt\n",
    "import seaborn as sns\n",
    "import pandas as pd\n",
    "\n",
    "from matplotlib.ticker import FormatStrFormatter\n",
    "\n",
    "from src.utils.visualization import (\n",
    "    plot_experiments, \n",
    "    plot_error_distributions, \n",
    "    plot_timewise_error_progression, \n",
    "    plot_one_model_predictions, \n",
    "    plot_one_model_error_distribution, \n",
    "    plot_one_model_timewise_error,\n",
    "    animate_results,\n",
    "    animate_predictions\n",
    ")"
   ]
  },
  {
   "cell_type": "code",
   "execution_count": null,
   "metadata": {},
   "outputs": [],
   "source": [
    "clstm_results_real = np.load('results/predictions/clstm/real_dataset_predictions.npz')\n",
    "\n",
    "# vitae_results_real = np.load(\"results/predictions/vitae/real_dataset_predictions.npz\")\n",
    "\n",
    "vunet_results_real = np.load('results/predictions/vunet/real_dataset_predictions.npz')\n",
    "\n",
    "kriging_results_real = np.load('results/predictions/kriging/real_random_predictions.npz')"
   ]
  },
  {
   "cell_type": "code",
   "execution_count": null,
   "metadata": {},
   "outputs": [],
   "source": [
    "sns.set_theme(style=\"white\", context=\"talk\", font_scale=1.4)\n",
    "\n",
    "# Create DataFrame\n",
    "models_data = {\n",
    "    \"Model\": [\"VUNet\", \"Kriging\", \"CLSTM\"],\n",
    "    \"MeanRelativeError\": [\n",
    "        np.mean(vunet_results_real['errors']),\n",
    "        np.mean(kriging_results_real['errors']),\n",
    "        np.mean(clstm_results_real['errors']),\n",
    "        # np.mean(vitae_results_real['errors']),\n",
    "    ]\n",
    "}\n",
    "df = pd.DataFrame(models_data)\n",
    "df = df.sort_values(by=\"MeanRelativeError\", ascending=True)\n",
    "\n",
    "# Plot\n",
    "plt.figure(figsize=(10, 6))\n",
    "ax = sns.barplot(data=df, x=\"Model\", y=\"MeanRelativeError\", hue=\"Model\", palette=\"Blues_d\")\n",
    "\n",
    "# Add value labels\n",
    "for p in ax.patches:\n",
    "    ax.annotate(f'{p.get_height():.4f}', \n",
    "                (p.get_x() + p.get_width() / 2., p.get_height()), \n",
    "                ha='center', va='bottom', fontsize=14, color='black', xytext=(0, 5), \n",
    "                textcoords='offset points')\n",
    "\n",
    "# Axis formatting\n",
    "ax.set_xlabel(\"Model\", fontsize=18)\n",
    "ax.set_ylabel(\"Mean Relative Error\", fontsize=18)\n",
    "ax.tick_params(axis='x', labelsize=14)\n",
    "ax.yaxis.set_major_formatter(FormatStrFormatter('%.2f'))\n",
    "ax.tick_params(axis='y', labelsize=14)\n",
    "ax.grid(axis='y', linestyle='--', alpha=0.7)\n",
    "ax.set_ylim(0, 0.6)\n",
    "\n",
    "plt.tight_layout()\n",
    "plt.savefig(\"report_images/experiments/real/errors_bar.png\", dpi=300, bbox_inches='tight')\n",
    "plt.show()"
   ]
  },
  {
   "cell_type": "code",
   "execution_count": null,
   "metadata": {},
   "outputs": [],
   "source": [
    "animate_predictions(\n",
    "    predictions=vunet_results_real['predictions'],\n",
    "    num_frames=50\n",
    ")"
   ]
  },
  {
   "cell_type": "code",
   "execution_count": null,
   "metadata": {},
   "outputs": [],
   "source": [
    "animate_predictions(\n",
    "    predictions=kriging_results_real['predictions'],\n",
    "    num_frames=50\n",
    ")"
   ]
  }
 ],
 "metadata": {
  "kernelspec": {
   "display_name": ".venv",
   "language": "python",
   "name": "python3"
  },
  "language_info": {
   "codemirror_mode": {
    "name": "ipython",
    "version": 3
   },
   "file_extension": ".py",
   "mimetype": "text/x-python",
   "name": "python",
   "nbconvert_exporter": "python",
   "pygments_lexer": "ipython3",
   "version": "3.12.3"
  }
 },
 "nbformat": 4,
 "nbformat_minor": 2
}
