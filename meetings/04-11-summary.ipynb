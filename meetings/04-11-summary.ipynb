{
 "cells": [
  {
   "cell_type": "markdown",
   "id": "7cd474b5",
   "metadata": {},
   "source": [
    "## Imports & Functions"
   ]
  },
  {
   "cell_type": "code",
   "execution_count": null,
   "id": "a29ba17f",
   "metadata": {},
   "outputs": [],
   "source": [
    "import numpy as np\n",
    "import matplotlib.pyplot as plt\n",
    "import matplotlib.animation as animation\n",
    "import seaborn as sns\n",
    "import pandas as pd\n",
    "from IPython.display import HTML\n",
    "\n",
    "from src.datasets.vitae_dataset import load_data as load_vitae\n",
    "from src.datasets.vcnn_dataset import load_data as load_vcnn\n",
    "from src.utils.visualization import animate_predictions"
   ]
  },
  {
   "cell_type": "code",
   "execution_count": null,
   "id": "4f59db56",
   "metadata": {},
   "outputs": [],
   "source": [
    "vcnn_train, _, _ = load_vcnn(sensor_number=30)\n",
    "vitae_train, _, _ = load_vitae(sensor_number=30)"
   ]
  },
  {
   "cell_type": "code",
   "execution_count": null,
   "id": "01a7def8",
   "metadata": {},
   "outputs": [],
   "source": [
    "def animate_vitae(dataset):\n",
    "    obs_init, gt_init = dataset[0][:2]\n",
    "\n",
    "    num_frames = min(len(dataset), 100)\n",
    "\n",
    "    # Create the figure and subplots.\n",
    "    fig, axs = plt.subplots(2, 4, figsize=(14, 7))\n",
    "\n",
    "    # Initialize the images for each subplot with the first frame.\n",
    "    im0 = axs[0, 0].imshow(obs_init[0, :, :], animated=True)\n",
    "    axs[0, 0].set_title('O3')\n",
    "    im1 = axs[0, 1].imshow(obs_init[1, :, :], animated=True)\n",
    "    axs[0, 1].set_title('PM10')\n",
    "    im2 = axs[0, 2].imshow(obs_init[2, :, :], animated=True)\n",
    "    axs[0, 2].set_title('PM25')\n",
    "    im3 = axs[0, 3].imshow(obs_init[3, :, :], animated=True)\n",
    "    axs[0, 3].set_title('NO2')\n",
    "\n",
    "    im0_img = axs[1, 0].imshow(gt_init[0, :, :], animated=True)\n",
    "    axs[1, 0].set_title('O3')\n",
    "    im1_img = axs[1, 1].imshow(gt_init[1, :, :], animated=True)\n",
    "    axs[1, 1].set_title('PM10')\n",
    "    im2_img = axs[1, 2].imshow(gt_init[2, :, :], animated=True)\n",
    "    axs[1, 2].set_title('PM25')\n",
    "    im3_img = axs[1, 3].imshow(gt_init[3, :, :], animated=True)\n",
    "    axs[1, 3].set_title('NO2')\n",
    "\n",
    "    # Define the update function that will update each subplot.\n",
    "    def update(frame):\n",
    "        im1.set_array(dataset[frame][0][ 1, :, :])\n",
    "        im2.set_array(dataset[frame][0][ 2, :, :])\n",
    "        im3.set_array(dataset[frame][0][ 3, :, :])\n",
    "        im0.set_array(dataset[frame][0][ 0, :, :])\n",
    "\n",
    "        im0_img.set_array(dataset[frame][1][ 0, :, :])\n",
    "        im1_img.set_array(dataset[frame][1][ 1, :, :])\n",
    "        im2_img.set_array(dataset[frame][1][ 2, :, :])\n",
    "        im3_img.set_array(dataset[frame][1][ 3, :, :])\n",
    "        return im0, im1, im2, im3, im0_img, im1_img, im2_img, im3_img\n",
    "\n",
    "    # Create the animation.\n",
    "    ani = animation.FuncAnimation(fig, update, frames=num_frames, blit=True, interval=200)\n",
    "\n",
    "    plt.tight_layout()\n",
    "    plt.close(fig)\n",
    "    return ani.to_jshtml()"
   ]
  },
  {
   "cell_type": "code",
   "execution_count": null,
   "id": "cada3699",
   "metadata": {},
   "outputs": [],
   "source": [
    "def animate_vcnn(dataset):\n",
    "    obs_init, _ = dataset[0][:2]\n",
    "\n",
    "    num_frames = min(len(dataset), 100)\n",
    "\n",
    "    # Create the figure and subplots.\n",
    "    fig, axs = plt.subplots(1, 5, figsize=(14, 3))\n",
    "\n",
    "    # Initialize the images for each subplot with the first frame.\n",
    "    im0 = axs[0].imshow(obs_init[0, :, :], animated=True)\n",
    "    axs[0].set_title('O3')\n",
    "    im1 = axs[1].imshow(obs_init[1, :, :], animated=True)\n",
    "    axs[1].set_title('PM10')\n",
    "    im2 = axs[2].imshow(obs_init[2, :, :], animated=True)\n",
    "    axs[2].set_title('PM25')\n",
    "    im3 = axs[3].imshow(obs_init[3, :, :], animated=True)\n",
    "    axs[3].set_title('NO2')\n",
    "    im4 = axs[4].imshow(obs_init[4, :, :], animated=True)\n",
    "    axs[4].set_title('Sensors')\n",
    "\n",
    "\n",
    "    # Define the update function that will update each subplot.\n",
    "    def update(frame):\n",
    "        im0.set_array(dataset[frame][0][ 0, :, :])\n",
    "        im1.set_array(dataset[frame][0][ 1, :, :])\n",
    "        im2.set_array(dataset[frame][0][ 2, :, :])\n",
    "        im3.set_array(dataset[frame][0][ 3, :, :])\n",
    "        im4.set_array(dataset[frame][0][ 4, :, :])\n",
    "        return im0, im1, im2, im3, im4\n",
    "\n",
    "    # Create the animation.\n",
    "    ani = animation.FuncAnimation(fig, update, frames=num_frames, blit=True, interval=200)\n",
    "\n",
    "    plt.tight_layout()\n",
    "    plt.close(fig)\n",
    "    return ani.to_jshtml()"
   ]
  },
  {
   "cell_type": "code",
   "execution_count": null,
   "id": "82455f2e",
   "metadata": {},
   "outputs": [],
   "source": [
    "def plot_model_performance(vitae_results_input, vcnn_results_input):\n",
    "    data = {\n",
    "        'model': [\"VitAE-SL\", 'VCNN'],\n",
    "        'error': [np.mean(vitae_results_input['errors']), np.mean(vcnn_results_input['errors'])],\n",
    "        'ssim': [np.mean(vitae_results_input['ssim']), np.mean(vcnn_results_input['ssim'])],\n",
    "        'psnr': [np.mean(vitae_results_input['psnr']), np.mean(vcnn_results_input['psnr'])]\n",
    "    }\n",
    "\n",
    "    df = pd.DataFrame(data)\n",
    "\n",
    "    _, ax = plt.subplots(1, 3, figsize=(12, 7))\n",
    "\n",
    "    sns.barplot(data=data, x='model', y='error', ax=ax[0])\n",
    "    sns.barplot(data=data, x='model', y='ssim', ax=ax[1])\n",
    "    sns.barplot(data=data, x='model', y='psnr', ax=ax[2])\n",
    "\n",
    "    plt.tight_layout()\n",
    "    plt.show()\n",
    "\n",
    "    return df"
   ]
  },
  {
   "cell_type": "code",
   "execution_count": null,
   "id": "bf20969f",
   "metadata": {},
   "outputs": [],
   "source": [
    "def plot_comparisons(results: list[pd.DataFrame]):\n",
    "    dataset_names = [\"30 sensors\", \"48 sensors\", \"108 sensors\"]\n",
    "    metrics = ['error', 'ssim', 'psnr']\n",
    "    metric_ylims = [0.5, 1.0, 50.0]\n",
    "    \n",
    "    num_metrics = len(metrics)\n",
    "    num_datasets = len(results)\n",
    "\n",
    "    _, axes = plt.subplots(num_metrics, num_datasets, figsize=(5 * num_datasets, 4 * num_metrics), sharey='row')\n",
    "\n",
    "    handles = labels = None\n",
    "\n",
    "    for row_idx, metric in enumerate(metrics):\n",
    "        for col_idx, (df, dataset_name) in enumerate(zip(results, dataset_names)):\n",
    "            ax = axes[row_idx, col_idx]\n",
    "            sns.barplot(data=df, x='model', y=metric, hue='model', ax=ax)\n",
    "\n",
    "            if row_idx == 0:\n",
    "                ax.set_title(dataset_name)\n",
    "            if col_idx == 0:\n",
    "                ax.set_ylabel(metric.capitalize())\n",
    "            else:\n",
    "                ax.set_ylabel('')\n",
    "            \n",
    "            ax.set_xlabel('')\n",
    "            ax.set_ylim(top=metric_ylims[row_idx])\n",
    "\n",
    "            # Add value labels on top of bars\n",
    "            for container in ax.containers:\n",
    "                ax.bar_label(container, fmt='%.3f', label_type='edge', padding=3)\n",
    "\n",
    "            # Store legend once, remove from subplot\n",
    "            if handles is None and labels is None:\n",
    "                handles, labels = ax.get_legend_handles_labels()\n",
    "            legend = ax.get_legend()\n",
    "            if legend is not None:\n",
    "                legend.remove()"
   ]
  },
  {
   "cell_type": "markdown",
   "id": "457d6588",
   "metadata": {},
   "source": [
    "## Processed data a bit more"
   ]
  },
  {
   "cell_type": "markdown",
   "id": "b410e452",
   "metadata": {},
   "source": [
    "### Fixed sensors to match"
   ]
  },
  {
   "cell_type": "code",
   "execution_count": null,
   "id": "bdf126c0",
   "metadata": {},
   "outputs": [],
   "source": [
    "HTML(animate_vitae(vitae_train))"
   ]
  },
  {
   "cell_type": "markdown",
   "id": "2ba55410",
   "metadata": {},
   "source": [
    "### Created Voronoi Tessellation for all pollutants"
   ]
  },
  {
   "cell_type": "code",
   "execution_count": null,
   "id": "b0741569",
   "metadata": {},
   "outputs": [],
   "source": [
    "HTML(animate_vcnn(vcnn_train))"
   ]
  },
  {
   "cell_type": "markdown",
   "id": "fe373703",
   "metadata": {},
   "source": [
    "## Both models are pretty good"
   ]
  },
  {
   "cell_type": "code",
   "execution_count": null,
   "id": "9dc0d44b",
   "metadata": {},
   "outputs": [],
   "source": [
    "vitae_predictions_30 = np.load('results/predictions/vitae/best_model_large_30_predictions.npz')\n",
    "vcnn_predictions_30 = np.load('results/predictions/vcnn/best_model_tiny_30_predictions.npz')"
   ]
  },
  {
   "cell_type": "code",
   "execution_count": null,
   "id": "8399f92c",
   "metadata": {},
   "outputs": [],
   "source": [
    "vitae_predictions_48 = np.load('results/predictions/vitae/best_model_large_48_predictions.npz')\n",
    "vcnn_predictions_48 = np.load('results/predictions/vcnn/best_model_tiny_48_predictions.npz')"
   ]
  },
  {
   "cell_type": "code",
   "execution_count": null,
   "id": "a59795d7",
   "metadata": {},
   "outputs": [],
   "source": [
    "vitae_predictions_108 = np.load('results/predictions/vitae/best_model_large_108_predictions.npz')\n",
    "vcnn_predictions_108 = np.load('results/predictions/vcnn/best_model_tiny_108_predictions.npz')"
   ]
  },
  {
   "cell_type": "markdown",
   "id": "a7846272",
   "metadata": {},
   "source": [
    "### For 30 sensors"
   ]
  },
  {
   "cell_type": "code",
   "execution_count": null,
   "id": "f667a428",
   "metadata": {},
   "outputs": [],
   "source": [
    "HTML(animate_predictions(vitae_predictions_30['ground_truth'], vitae_predictions_30['decoder_predictions'], vitae_predictions_30['local_errors']))"
   ]
  },
  {
   "cell_type": "code",
   "execution_count": null,
   "id": "69104f1a",
   "metadata": {},
   "outputs": [],
   "source": [
    "HTML(animate_predictions(vcnn_predictions_30['ground_truth'], vcnn_predictions_30['predictions'], vcnn_predictions_30['local_errors']))"
   ]
  },
  {
   "cell_type": "code",
   "execution_count": null,
   "id": "49f19915",
   "metadata": {},
   "outputs": [],
   "source": [
    "df_30 = plot_model_performance(vitae_predictions_30, vcnn_predictions_30)"
   ]
  },
  {
   "cell_type": "code",
   "execution_count": null,
   "id": "340f5d02",
   "metadata": {},
   "outputs": [],
   "source": [
    "print(df_30)"
   ]
  },
  {
   "cell_type": "markdown",
   "id": "e9442237",
   "metadata": {},
   "source": [
    "### For 48 sensors"
   ]
  },
  {
   "cell_type": "code",
   "execution_count": null,
   "id": "30e17e20",
   "metadata": {},
   "outputs": [],
   "source": [
    "HTML(animate_predictions(vitae_predictions_48['ground_truth'], vitae_predictions_48['decoder_predictions'], vitae_predictions_48['local_errors']))"
   ]
  },
  {
   "cell_type": "code",
   "execution_count": null,
   "id": "1d97c92c",
   "metadata": {},
   "outputs": [],
   "source": [
    "HTML(animate_predictions(vcnn_predictions_48['ground_truth'], vcnn_predictions_48['predictions'], vcnn_predictions_48['local_errors']))"
   ]
  },
  {
   "cell_type": "code",
   "execution_count": null,
   "id": "dfd113e0",
   "metadata": {},
   "outputs": [],
   "source": [
    "df_48 = plot_model_performance(vitae_predictions_48, vcnn_predictions_48)"
   ]
  },
  {
   "cell_type": "code",
   "execution_count": null,
   "id": "323101f1",
   "metadata": {},
   "outputs": [],
   "source": [
    "print(df_48)"
   ]
  },
  {
   "cell_type": "markdown",
   "id": "f1a9e818",
   "metadata": {},
   "source": [
    "### For 108 sensors"
   ]
  },
  {
   "cell_type": "code",
   "execution_count": null,
   "id": "94e54ffb",
   "metadata": {},
   "outputs": [],
   "source": [
    "HTML(animate_predictions(vitae_predictions_108['ground_truth'], vitae_predictions_108['decoder_predictions'], vitae_predictions_108['local_errors']))"
   ]
  },
  {
   "cell_type": "code",
   "execution_count": null,
   "id": "c184442d",
   "metadata": {},
   "outputs": [],
   "source": [
    "HTML(animate_predictions(vcnn_predictions_108['ground_truth'], vcnn_predictions_108['predictions'], vcnn_predictions_108['local_errors']))"
   ]
  },
  {
   "cell_type": "code",
   "execution_count": null,
   "id": "7cad7b9f",
   "metadata": {},
   "outputs": [],
   "source": [
    "df_108 = plot_model_performance(vitae_predictions_108, vcnn_predictions_108)"
   ]
  },
  {
   "cell_type": "code",
   "execution_count": null,
   "id": "16d59da8",
   "metadata": {},
   "outputs": [],
   "source": [
    "print(df_108)"
   ]
  },
  {
   "cell_type": "markdown",
   "id": "dc4bf8de",
   "metadata": {},
   "source": [
    "### Final comparison between ViTAE large and VCNN lite"
   ]
  },
  {
   "cell_type": "code",
   "execution_count": null,
   "id": "822fcb58",
   "metadata": {},
   "outputs": [],
   "source": [
    "plot_comparisons([df_30, df_48, df_108])"
   ]
  },
  {
   "cell_type": "code",
   "execution_count": null,
   "id": "bb630605",
   "metadata": {},
   "outputs": [],
   "source": []
  }
 ],
 "metadata": {
  "kernelspec": {
   "display_name": ".venv",
   "language": "python",
   "name": "python3"
  },
  "language_info": {
   "codemirror_mode": {
    "name": "ipython",
    "version": 3
   },
   "file_extension": ".py",
   "mimetype": "text/x-python",
   "name": "python",
   "nbconvert_exporter": "python",
   "pygments_lexer": "ipython3",
   "version": "3.12.3"
  }
 },
 "nbformat": 4,
 "nbformat_minor": 5
}
