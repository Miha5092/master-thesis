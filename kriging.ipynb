{
 "cells": [
  {
   "cell_type": "code",
   "execution_count": 1,
   "id": "60816a4d",
   "metadata": {},
   "outputs": [
    {
     "name": "stderr",
     "output_type": "stream",
     "text": [
      "/vol/bitbucket/mm1124/master-thesis/.venv/lib/python3.12/site-packages/tqdm/auto.py:21: TqdmWarning: IProgress not found. Please update jupyter and ipywidgets. See https://ipywidgets.readthedocs.io/en/stable/user_install.html\n",
      "  from .autonotebook import tqdm as notebook_tqdm\n"
     ]
    }
   ],
   "source": [
    "import numpy as np\n",
    "import torch\n",
    "import matplotlib.pyplot as plt\n",
    "import os\n",
    "import optuna\n",
    "from optuna.samplers import TPESampler\n",
    "\n",
    "from pykrige.ok import OrdinaryKriging\n",
    "\n",
    "from src.datasets.vitae_dataset import load_data\n",
    "from src.utils.evaluation import compute_all_metrics, compute_relative_error\n",
    "\n",
    "seed = 42"
   ]
  },
  {
   "cell_type": "code",
   "execution_count": 2,
   "id": "c439d6d0",
   "metadata": {},
   "outputs": [],
   "source": [
    "def kriging_interpolate_image(\n",
    "    img: np.ndarray,\n",
    "    variogram_model: str,\n",
    "    variogram_parameters: dict,\n",
    "    nlags: int,\n",
    "    weight: bool,\n",
    "    anisotropy_scaling: float,\n",
    "    anisotropy_angle: float,\n",
    "    exact_values: bool\n",
    ") -> np.ndarray:\n",
    "    h, w = img.shape\n",
    "    y_idx, x_idx = np.where(img != 0)\n",
    "    values = img[y_idx, x_idx]\n",
    "\n",
    "    # if too few points, skip\n",
    "    if len(values) < 3:\n",
    "        return img.copy()\n",
    "\n",
    "    # build the Ordinary Kriging model with hyperparameters\n",
    "    OK = OrdinaryKriging(\n",
    "        x_idx.astype(float),\n",
    "        y_idx.astype(float),\n",
    "        values.astype(float),\n",
    "        variogram_model=variogram_model,\n",
    "        variogram_parameters=variogram_parameters,\n",
    "        nlags=nlags,\n",
    "        weight=weight,\n",
    "        anisotropy_scaling=anisotropy_scaling,\n",
    "        anisotropy_angle=anisotropy_angle,\n",
    "        exact_values=exact_values,\n",
    "        verbose=False,\n",
    "        enable_plotting=False\n",
    "    )\n",
    "\n",
    "    grid_x = np.arange(w, dtype=float)\n",
    "    grid_y = np.arange(h, dtype=float)\n",
    "    z_interp, _ = OK.execute(\"grid\", grid_x, grid_y)\n",
    "    return z_interp\n",
    "\n",
    "\n",
    "def kriging_interpolate_tensor(\n",
    "    tensor_np: np.ndarray,\n",
    "    variogram_model: str,\n",
    "    variogram_parameters: dict,\n",
    "    nlags: int,\n",
    "    weight: bool,\n",
    "    anisotropy_scaling: float,\n",
    "    anisotropy_angle: float,\n",
    "    exact_values: bool\n",
    ") -> np.ndarray:\n",
    "    out = np.zeros_like(tensor_np)\n",
    "    for i in range(tensor_np.shape[0]):      # time\n",
    "        for c in range(tensor_np.shape[1]):  # channel\n",
    "            out[i, c] = kriging_interpolate_image(\n",
    "                tensor_np[i, c],\n",
    "                variogram_model,\n",
    "                variogram_parameters,\n",
    "                nlags,\n",
    "                weight,\n",
    "                anisotropy_scaling,\n",
    "                anisotropy_angle,\n",
    "                exact_values\n",
    "            )\n",
    "    return out"
   ]
  },
  {
   "cell_type": "code",
   "execution_count": 3,
   "id": "8478703a",
   "metadata": {},
   "outputs": [],
   "source": [
    "from src.datasets.real_obs_dataset import load_data as load_real"
   ]
  },
  {
   "cell_type": "code",
   "execution_count": 4,
   "id": "b08d20b7",
   "metadata": {},
   "outputs": [],
   "source": [
    "dataset, stats = load_real(\"vitae\", 1)"
   ]
  },
  {
   "cell_type": "code",
   "execution_count": 5,
   "id": "1e0281a7",
   "metadata": {},
   "outputs": [],
   "source": [
    "obs = torch.stack([obs for obs, _, _ in dataset])\n",
    "gts = torch.stack([gt for _, gt, _ in dataset])\n",
    "mask = torch.stack([mask for _, _, mask in dataset])"
   ]
  },
  {
   "cell_type": "code",
   "execution_count": 6,
   "id": "a8972c81",
   "metadata": {},
   "outputs": [
    {
     "ename": "KeyboardInterrupt",
     "evalue": "",
     "output_type": "error",
     "traceback": [
      "\u001b[31m---------------------------------------------------------------------------\u001b[39m",
      "\u001b[31mKeyboardInterrupt\u001b[39m                         Traceback (most recent call last)",
      "\u001b[36mCell\u001b[39m\u001b[36m \u001b[39m\u001b[32mIn[6]\u001b[39m\u001b[32m, line 4\u001b[39m\n\u001b[32m      1\u001b[39m best_params = {\u001b[33m'\u001b[39m\u001b[33mvariogram_model\u001b[39m\u001b[33m'\u001b[39m: \u001b[33m'\u001b[39m\u001b[33mlinear\u001b[39m\u001b[33m'\u001b[39m, \u001b[33m'\u001b[39m\u001b[33mslope\u001b[39m\u001b[33m'\u001b[39m: \u001b[32m2.0506246505745622\u001b[39m, \u001b[33m'\u001b[39m\u001b[33mnugget\u001b[39m\u001b[33m'\u001b[39m: \u001b[32m0.24566496231367718\u001b[39m, \u001b[33m'\u001b[39m\u001b[33mnlags\u001b[39m\u001b[33m'\u001b[39m: \u001b[32m4\u001b[39m, \u001b[33m'\u001b[39m\u001b[33mweight\u001b[39m\u001b[33m'\u001b[39m: \u001b[38;5;28;01mTrue\u001b[39;00m, \u001b[33m'\u001b[39m\u001b[33manisotropy_scaling\u001b[39m\u001b[33m'\u001b[39m: \u001b[32m1.527749730358887\u001b[39m, \u001b[33m'\u001b[39m\u001b[33manisotropy_angle\u001b[39m\u001b[33m'\u001b[39m: \u001b[32m179.58372854952466\u001b[39m, \u001b[33m'\u001b[39m\u001b[33mexact_values\u001b[39m\u001b[33m'\u001b[39m: \u001b[38;5;28;01mFalse\u001b[39;00m}\n\u001b[32m----> \u001b[39m\u001b[32m4\u001b[39m pred = \u001b[43mkriging_interpolate_tensor\u001b[49m\u001b[43m(\u001b[49m\n\u001b[32m      5\u001b[39m \u001b[43m            \u001b[49m\u001b[43mobs\u001b[49m\u001b[43m.\u001b[49m\u001b[43mnumpy\u001b[49m\u001b[43m(\u001b[49m\u001b[43m)\u001b[49m\u001b[43m,\u001b[49m\n\u001b[32m      6\u001b[39m \u001b[43m            \u001b[49m\u001b[43mbest_params\u001b[49m\u001b[43m.\u001b[49m\u001b[43mget\u001b[49m\u001b[43m(\u001b[49m\u001b[33;43m\"\u001b[39;49m\u001b[33;43mvariogram_model\u001b[39;49m\u001b[33;43m\"\u001b[39;49m\u001b[43m,\u001b[49m\u001b[43m \u001b[49m\u001b[38;5;28;43;01mNone\u001b[39;49;00m\u001b[43m)\u001b[49m\u001b[43m,\u001b[49m\n\u001b[32m      7\u001b[39m \u001b[43m            \u001b[49m\u001b[43mbest_params\u001b[49m\u001b[43m.\u001b[49m\u001b[43mget\u001b[49m\u001b[43m(\u001b[49m\u001b[33;43m\"\u001b[39;49m\u001b[33;43mvariogram_parameters\u001b[39;49m\u001b[33;43m\"\u001b[39;49m\u001b[43m,\u001b[49m\u001b[43m \u001b[49m\u001b[38;5;28;43;01mNone\u001b[39;49;00m\u001b[43m)\u001b[49m\u001b[43m,\u001b[49m\n\u001b[32m      8\u001b[39m \u001b[43m            \u001b[49m\u001b[43mbest_params\u001b[49m\u001b[43m.\u001b[49m\u001b[43mget\u001b[49m\u001b[43m(\u001b[49m\u001b[33;43m\"\u001b[39;49m\u001b[33;43mnlags\u001b[39;49m\u001b[33;43m\"\u001b[39;49m\u001b[43m,\u001b[49m\u001b[43m \u001b[49m\u001b[38;5;28;43;01mNone\u001b[39;49;00m\u001b[43m)\u001b[49m\u001b[43m,\u001b[49m\n\u001b[32m      9\u001b[39m \u001b[43m            \u001b[49m\u001b[43mbest_params\u001b[49m\u001b[43m.\u001b[49m\u001b[43mget\u001b[49m\u001b[43m(\u001b[49m\u001b[33;43m\"\u001b[39;49m\u001b[33;43mweight\u001b[39;49m\u001b[33;43m\"\u001b[39;49m\u001b[43m,\u001b[49m\u001b[43m \u001b[49m\u001b[38;5;28;43;01mNone\u001b[39;49;00m\u001b[43m)\u001b[49m\u001b[43m,\u001b[49m\n\u001b[32m     10\u001b[39m \u001b[43m            \u001b[49m\u001b[43mbest_params\u001b[49m\u001b[43m.\u001b[49m\u001b[43mget\u001b[49m\u001b[43m(\u001b[49m\u001b[33;43m\"\u001b[39;49m\u001b[33;43manisotropy_scaling\u001b[39;49m\u001b[33;43m\"\u001b[39;49m\u001b[43m,\u001b[49m\u001b[43m \u001b[49m\u001b[38;5;28;43;01mNone\u001b[39;49;00m\u001b[43m)\u001b[49m\u001b[43m,\u001b[49m\n\u001b[32m     11\u001b[39m \u001b[43m            \u001b[49m\u001b[43mbest_params\u001b[49m\u001b[43m.\u001b[49m\u001b[43mget\u001b[49m\u001b[43m(\u001b[49m\u001b[33;43m\"\u001b[39;49m\u001b[33;43manisotropy_angle\u001b[39;49m\u001b[33;43m\"\u001b[39;49m\u001b[43m,\u001b[49m\u001b[43m \u001b[49m\u001b[38;5;28;43;01mNone\u001b[39;49;00m\u001b[43m)\u001b[49m\u001b[43m,\u001b[49m\n\u001b[32m     12\u001b[39m \u001b[43m            \u001b[49m\u001b[43mbest_params\u001b[49m\u001b[43m.\u001b[49m\u001b[43mget\u001b[49m\u001b[43m(\u001b[49m\u001b[33;43m\"\u001b[39;49m\u001b[33;43mexact_values\u001b[39;49m\u001b[33;43m\"\u001b[39;49m\u001b[43m,\u001b[49m\u001b[43m \u001b[49m\u001b[38;5;28;43;01mNone\u001b[39;49;00m\u001b[43m)\u001b[49m\n\u001b[32m     13\u001b[39m \u001b[43m        \u001b[49m\u001b[43m)\u001b[49m\n",
      "\u001b[36mCell\u001b[39m\u001b[36m \u001b[39m\u001b[32mIn[2]\u001b[39m\u001b[32m, line 54\u001b[39m, in \u001b[36mkriging_interpolate_tensor\u001b[39m\u001b[34m(tensor_np, variogram_model, variogram_parameters, nlags, weight, anisotropy_scaling, anisotropy_angle, exact_values)\u001b[39m\n\u001b[32m     52\u001b[39m \u001b[38;5;28;01mfor\u001b[39;00m i \u001b[38;5;129;01min\u001b[39;00m \u001b[38;5;28mrange\u001b[39m(tensor_np.shape[\u001b[32m0\u001b[39m]):      \u001b[38;5;66;03m# time\u001b[39;00m\n\u001b[32m     53\u001b[39m     \u001b[38;5;28;01mfor\u001b[39;00m c \u001b[38;5;129;01min\u001b[39;00m \u001b[38;5;28mrange\u001b[39m(tensor_np.shape[\u001b[32m1\u001b[39m]):  \u001b[38;5;66;03m# channel\u001b[39;00m\n\u001b[32m---> \u001b[39m\u001b[32m54\u001b[39m         out[i, c] = \u001b[43mkriging_interpolate_image\u001b[49m\u001b[43m(\u001b[49m\n\u001b[32m     55\u001b[39m \u001b[43m            \u001b[49m\u001b[43mtensor_np\u001b[49m\u001b[43m[\u001b[49m\u001b[43mi\u001b[49m\u001b[43m,\u001b[49m\u001b[43m \u001b[49m\u001b[43mc\u001b[49m\u001b[43m]\u001b[49m\u001b[43m,\u001b[49m\n\u001b[32m     56\u001b[39m \u001b[43m            \u001b[49m\u001b[43mvariogram_model\u001b[49m\u001b[43m,\u001b[49m\n\u001b[32m     57\u001b[39m \u001b[43m            \u001b[49m\u001b[43mvariogram_parameters\u001b[49m\u001b[43m,\u001b[49m\n\u001b[32m     58\u001b[39m \u001b[43m            \u001b[49m\u001b[43mnlags\u001b[49m\u001b[43m,\u001b[49m\n\u001b[32m     59\u001b[39m \u001b[43m            \u001b[49m\u001b[43mweight\u001b[49m\u001b[43m,\u001b[49m\n\u001b[32m     60\u001b[39m \u001b[43m            \u001b[49m\u001b[43manisotropy_scaling\u001b[49m\u001b[43m,\u001b[49m\n\u001b[32m     61\u001b[39m \u001b[43m            \u001b[49m\u001b[43manisotropy_angle\u001b[49m\u001b[43m,\u001b[49m\n\u001b[32m     62\u001b[39m \u001b[43m            \u001b[49m\u001b[43mexact_values\u001b[49m\n\u001b[32m     63\u001b[39m \u001b[43m        \u001b[49m\u001b[43m)\u001b[49m\n\u001b[32m     64\u001b[39m \u001b[38;5;28;01mreturn\u001b[39;00m out\n",
      "\u001b[36mCell\u001b[39m\u001b[36m \u001b[39m\u001b[32mIn[2]\u001b[39m\u001b[32m, line 37\u001b[39m, in \u001b[36mkriging_interpolate_image\u001b[39m\u001b[34m(img, variogram_model, variogram_parameters, nlags, weight, anisotropy_scaling, anisotropy_angle, exact_values)\u001b[39m\n\u001b[32m     35\u001b[39m grid_x = np.arange(w, dtype=\u001b[38;5;28mfloat\u001b[39m)\n\u001b[32m     36\u001b[39m grid_y = np.arange(h, dtype=\u001b[38;5;28mfloat\u001b[39m)\n\u001b[32m---> \u001b[39m\u001b[32m37\u001b[39m z_interp, _ = \u001b[43mOK\u001b[49m\u001b[43m.\u001b[49m\u001b[43mexecute\u001b[49m\u001b[43m(\u001b[49m\u001b[33;43m\"\u001b[39;49m\u001b[33;43mgrid\u001b[39;49m\u001b[33;43m\"\u001b[39;49m\u001b[43m,\u001b[49m\u001b[43m \u001b[49m\u001b[43mgrid_x\u001b[49m\u001b[43m,\u001b[49m\u001b[43m \u001b[49m\u001b[43mgrid_y\u001b[49m\u001b[43m)\u001b[49m\n\u001b[32m     38\u001b[39m \u001b[38;5;28;01mreturn\u001b[39;00m z_interp\n",
      "\u001b[36mFile \u001b[39m\u001b[32m/vol/bitbucket/mm1124/master-thesis/.venv/lib/python3.12/site-packages/pykrige/ok.py:999\u001b[39m, in \u001b[36mOrdinaryKriging.execute\u001b[39m\u001b[34m(self, style, xpoints, ypoints, mask, backend, n_closest_points)\u001b[39m\n\u001b[32m    991\u001b[39m     bd = core.great_circle_distance(\n\u001b[32m    992\u001b[39m         xpts[:, np.newaxis],\n\u001b[32m    993\u001b[39m         ypts[:, np.newaxis],\n\u001b[32m    994\u001b[39m         \u001b[38;5;28mself\u001b[39m.X_ADJUSTED,\n\u001b[32m    995\u001b[39m         \u001b[38;5;28mself\u001b[39m.Y_ADJUSTED,\n\u001b[32m    996\u001b[39m     )\n\u001b[32m    998\u001b[39m \u001b[38;5;28;01mif\u001b[39;00m backend == \u001b[33m\"\u001b[39m\u001b[33mvectorized\u001b[39m\u001b[33m\"\u001b[39m:\n\u001b[32m--> \u001b[39m\u001b[32m999\u001b[39m     zvalues, sigmasq = \u001b[38;5;28;43mself\u001b[39;49m\u001b[43m.\u001b[49m\u001b[43m_exec_vector\u001b[49m\u001b[43m(\u001b[49m\u001b[43ma\u001b[49m\u001b[43m,\u001b[49m\u001b[43m \u001b[49m\u001b[43mbd\u001b[49m\u001b[43m,\u001b[49m\u001b[43m \u001b[49m\u001b[43mmask\u001b[49m\u001b[43m)\u001b[49m\n\u001b[32m   1000\u001b[39m \u001b[38;5;28;01melif\u001b[39;00m backend == \u001b[33m\"\u001b[39m\u001b[33mloop\u001b[39m\u001b[33m\"\u001b[39m:\n\u001b[32m   1001\u001b[39m     zvalues, sigmasq = \u001b[38;5;28mself\u001b[39m._exec_loop(a, bd, mask)\n",
      "\u001b[36mFile \u001b[39m\u001b[32m/vol/bitbucket/mm1124/master-thesis/.venv/lib/python3.12/site-packages/pykrige/ok.py:663\u001b[39m, in \u001b[36mOrdinaryKriging._exec_vector\u001b[39m\u001b[34m(self, a, bd, mask)\u001b[39m\n\u001b[32m    661\u001b[39m     a_inv = P_INV[\u001b[38;5;28mself\u001b[39m.pseudo_inv_type](a)\n\u001b[32m    662\u001b[39m \u001b[38;5;28;01melse\u001b[39;00m:\n\u001b[32m--> \u001b[39m\u001b[32m663\u001b[39m     a_inv = \u001b[43mscipy\u001b[49m\u001b[43m.\u001b[49m\u001b[43mlinalg\u001b[49m\u001b[43m.\u001b[49m\u001b[43minv\u001b[49m\u001b[43m(\u001b[49m\u001b[43ma\u001b[49m\u001b[43m)\u001b[49m\n\u001b[32m    665\u001b[39m \u001b[38;5;28;01mif\u001b[39;00m np.any(np.absolute(bd) <= \u001b[38;5;28mself\u001b[39m.eps):\n\u001b[32m    666\u001b[39m     zero_value = \u001b[38;5;28;01mTrue\u001b[39;00m\n",
      "\u001b[36mFile \u001b[39m\u001b[32m/vol/bitbucket/mm1124/master-thesis/.venv/lib/python3.12/site-packages/scipy/linalg/_basic.py:1161\u001b[39m, in \u001b[36minv\u001b[39m\u001b[34m(a, overwrite_a, check_finite)\u001b[39m\n\u001b[32m   1154\u001b[39m     \u001b[38;5;66;03m# XXX: the following line fixes curious SEGFAULT when\u001b[39;00m\n\u001b[32m   1155\u001b[39m     \u001b[38;5;66;03m# benchmarking 500x500 matrix inverse. This seems to\u001b[39;00m\n\u001b[32m   1156\u001b[39m     \u001b[38;5;66;03m# be a bug in LAPACK ?getri routine because if lwork is\u001b[39;00m\n\u001b[32m   1157\u001b[39m     \u001b[38;5;66;03m# minimal (when using lwork[0] instead of lwork[1]) then\u001b[39;00m\n\u001b[32m   1158\u001b[39m     \u001b[38;5;66;03m# all tests pass. Further investigation is required if\u001b[39;00m\n\u001b[32m   1159\u001b[39m     \u001b[38;5;66;03m# more such SEGFAULTs occur.\u001b[39;00m\n\u001b[32m   1160\u001b[39m     lwork = \u001b[38;5;28mint\u001b[39m(\u001b[32m1.01\u001b[39m * lwork)\n\u001b[32m-> \u001b[39m\u001b[32m1161\u001b[39m     inv_a, info = \u001b[43mgetri\u001b[49m\u001b[43m(\u001b[49m\u001b[43mlu\u001b[49m\u001b[43m,\u001b[49m\u001b[43m \u001b[49m\u001b[43mpiv\u001b[49m\u001b[43m,\u001b[49m\u001b[43m \u001b[49m\u001b[43mlwork\u001b[49m\u001b[43m=\u001b[49m\u001b[43mlwork\u001b[49m\u001b[43m,\u001b[49m\u001b[43m \u001b[49m\u001b[43moverwrite_lu\u001b[49m\u001b[43m=\u001b[49m\u001b[32;43m1\u001b[39;49m\u001b[43m)\u001b[49m\n\u001b[32m   1162\u001b[39m \u001b[38;5;28;01mif\u001b[39;00m info > \u001b[32m0\u001b[39m:\n\u001b[32m   1163\u001b[39m     \u001b[38;5;28;01mraise\u001b[39;00m LinAlgError(\u001b[33m\"\u001b[39m\u001b[33msingular matrix\u001b[39m\u001b[33m\"\u001b[39m)\n",
      "\u001b[31mKeyboardInterrupt\u001b[39m: "
     ]
    }
   ],
   "source": [
    "best_params = {'variogram_model': 'linear', 'slope': 2.0506246505745622, 'nugget': 0.24566496231367718, 'nlags': 4, 'weight': True, 'anisotropy_scaling': 1.527749730358887, 'anisotropy_angle': 179.58372854952466, 'exact_values': False}\n",
    "\n",
    "\n",
    "pred = kriging_interpolate_tensor(\n",
    "            obs.numpy(),\n",
    "            best_params.get(\"variogram_model\", None),\n",
    "            best_params.get(\"variogram_parameters\", None),\n",
    "            best_params.get(\"nlags\", None),\n",
    "            best_params.get(\"weight\", None),\n",
    "            best_params.get(\"anisotropy_scaling\", None),\n",
    "            best_params.get(\"anisotropy_angle\", None),\n",
    "            best_params.get(\"exact_values\", None)\n",
    "        )"
   ]
  },
  {
   "cell_type": "code",
   "execution_count": null,
   "id": "491d6ee6",
   "metadata": {},
   "outputs": [],
   "source": [
    "err = compute_relative_error(gts * mask, torch.from_numpy(pred) * mask)"
   ]
  },
  {
   "cell_type": "code",
   "execution_count": null,
   "id": "1554d21b",
   "metadata": {},
   "outputs": [
    {
     "name": "stdout",
     "output_type": "stream",
     "text": [
      "1.0062051776445304\n"
     ]
    }
   ],
   "source": [
    "print(np.mean(err))"
   ]
  },
  {
   "cell_type": "markdown",
   "id": "97e59c70",
   "metadata": {},
   "source": [
    "### Finding the pers parameters for the algorithms"
   ]
  },
  {
   "cell_type": "code",
   "execution_count": null,
   "id": "3adbcd7b",
   "metadata": {},
   "outputs": [],
   "source": [
    "def objective(trial):\n",
    "\n",
    "    train_dataset, _, _, _ = load_data(sensor_type=\"real\", combine_train_val=True)\n",
    "\n",
    "    train_obs = torch.stack([obs for obs, _, _ in train_dataset]).numpy()\n",
    "    train_gts = torch.stack([gt for _, gt, _ in train_dataset])\n",
    "\n",
    "    # Define the hyperparameters here\n",
    "\n",
    "    variogram_model = trial.suggest_categorical(\n",
    "        \"variogram_model\", [\"linear\", \"power\", \"gaussian\", \"spherical\", \"exponential\"]\n",
    "    )\n",
    "\n",
    "    if variogram_model == \"power\":\n",
    "        # power: scale, exponent, nugget\n",
    "        scale   = trial.suggest_float(\"scale\",   1e-3, float(np.nanstd(train_obs)), log=True)\n",
    "        exponent= trial.suggest_float(\"exponent\", 0.1, 2.0)\n",
    "        nugget  = trial.suggest_float(\"nugget\",  0.0, scale * 0.5)\n",
    "        variogram_parameters = {\n",
    "            \"scale\": scale,\n",
    "            \"exponent\": exponent,\n",
    "            \"nugget\": nugget\n",
    "        }\n",
    "\n",
    "    elif variogram_model == \"linear\":\n",
    "        # linear: slope, nugget\n",
    "        slope   = trial.suggest_float(\"slope\",   0.1, 10.0, log=True)\n",
    "        nugget  = trial.suggest_float(\"nugget\",  0.0, slope * 0.5)\n",
    "        variogram_parameters = {\n",
    "            \"slope\": slope,\n",
    "            \"nugget\": nugget\n",
    "        }\n",
    "\n",
    "    else:\n",
    "        # gaussian / spherical / exponential: range, sill, nugget\n",
    "        v_range = trial.suggest_float(\"range\",  1e-1, max(train_obs.shape), log=True)\n",
    "        sill    = trial.suggest_float(\"sill\",   1e-3, float(np.nanstd(train_obs)), log=True)\n",
    "        nugget  = trial.suggest_float(\"nugget\", 0.0, sill * 0.5)\n",
    "        variogram_parameters = {\n",
    "            \"range\": v_range,\n",
    "            \"sill\": sill,\n",
    "            \"nugget\": nugget\n",
    "        }\n",
    "\n",
    "    nlags = trial.suggest_int(\"nlags\", 2, 20)\n",
    "    weight = trial.suggest_categorical(\"weight\", [True, False])\n",
    "    anisotropy_scaling = trial.suggest_float(\"anisotropy_scaling\", 0.1, 10.0, log=True)\n",
    "    anisotropy_angle = trial.suggest_float(\"anisotropy_angle\", 0.0, 180.0)\n",
    "    exact_values = trial.suggest_categorical(\"exact_values\", [True, False])\n",
    "\n",
    "    # Call the kriging here\n",
    "\n",
    "    pred = kriging_interpolate_tensor(\n",
    "        train_obs,\n",
    "        variogram_model,\n",
    "        variogram_parameters,\n",
    "        nlags,\n",
    "        weight,\n",
    "        anisotropy_scaling,\n",
    "        anisotropy_angle,\n",
    "        exact_values\n",
    "    )\n",
    "\n",
    "    # Evaluate the performance\n",
    "\n",
    "    relative_errs = compute_relative_error(train_gts, torch.from_numpy(pred))\n",
    "\n",
    "    return np.mean(relative_errs)"
   ]
  },
  {
   "cell_type": "code",
   "execution_count": null,
   "id": "d8658711",
   "metadata": {},
   "outputs": [],
   "source": [
    "study = optuna.create_study(study_name=\"Optimizing Kriging\", direction=\"minimize\", sampler=TPESampler(seed=seed))\n",
    "study.optimize(objective, n_trials=100)\n",
    "\n",
    "print(\"Best trial:\")\n",
    "print(study.best_trial.params)"
   ]
  },
  {
   "cell_type": "markdown",
   "id": "7b687618",
   "metadata": {},
   "source": [
    "### Randomly sampled sensors"
   ]
  },
  {
   "cell_type": "code",
   "execution_count": null,
   "id": "a051984d",
   "metadata": {},
   "outputs": [],
   "source": [
    "sensor_numbers = [5, 10, 15, 20, 25, 30]\n",
    "\n",
    "preds = []\n",
    "errors = []\n",
    "ssims = []\n",
    "psnrs = []\n",
    "local_errors = []\n",
    "\n",
    "for sensor_number in sensor_numbers:\n",
    "    _, _, test_dataset, _ = load_data(sensor_type=\"random\", sensor_number=sensor_number)\n",
    "\n",
    "    obs = torch.stack([obs for obs, _, _ in test_dataset])\n",
    "    gts = torch.stack([gt for _, gt, _ in test_dataset])\n",
    "\n",
    "    pred = kriging_interpolate_tensor(obs.numpy())\n",
    "\n",
    "    error, ssim, psnr, local_error = compute_all_metrics(gts, torch.from_numpy(pred))\n",
    "\n",
    "    preds.append(pred)\n",
    "    errors.append(error)\n",
    "    ssims.append(ssim)\n",
    "    psnrs.append(psnr)\n",
    "    local_errors.append(local_error)\n",
    "\n",
    "    preds_dir = f\"results/predictions/kriging\"\n",
    "    os.makedirs(preds_dir, exist_ok=True)\n",
    "    pred_file = os.path.join(preds_dir, f\"random_random_{sensor_number}_predictions.npz\")\n",
    "\n",
    "    np.savez_compressed(\n",
    "        pred_file,\n",
    "        observations=obs.numpy(),\n",
    "        ground_truth=gts.numpy(),\n",
    "        predictions=np.array(pred),\n",
    "        errors=np.array(error),\n",
    "        ssim=np.array(ssim),\n",
    "        psnr=np.array(psnr),\n",
    "        local_errors=local_error.numpy(),\n",
    "    )\n",
    "\n",
    "    print(f\"Finished Kriging with {sensor_number} sensors.\")"
   ]
  },
  {
   "cell_type": "code",
   "execution_count": null,
   "id": "06adac43",
   "metadata": {},
   "outputs": [],
   "source": []
  }
 ],
 "metadata": {
  "kernelspec": {
   "display_name": ".venv",
   "language": "python",
   "name": "python3"
  },
  "language_info": {
   "codemirror_mode": {
    "name": "ipython",
    "version": 3
   },
   "file_extension": ".py",
   "mimetype": "text/x-python",
   "name": "python",
   "nbconvert_exporter": "python",
   "pygments_lexer": "ipython3",
   "version": "3.12.3"
  }
 },
 "nbformat": 4,
 "nbformat_minor": 5
}
